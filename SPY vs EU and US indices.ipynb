{
 "cells": [
  {
   "cell_type": "code",
   "execution_count": 1,
   "metadata": {},
   "outputs": [],
   "source": [
    "import pandas as pd\n",
    "import numpy as np\n",
    "from scipy.stats import norm\n",
    "import matplotlib.pyplot as plt\n",
    "from pandas.plotting import scatter_matrix\n",
    "import statsmodels.formula.api as smf\n",
    "import scipy.stats as stats\n",
    "\n",
    "import os"
   ]
  },
  {
   "cell_type": "code",
   "execution_count": 2,
   "metadata": {},
   "outputs": [
    {
     "data": {
      "text/plain": [
       "(252, 7)"
      ]
     },
     "execution_count": 2,
     "metadata": {},
     "output_type": "execute_result"
    }
   ],
   "source": [
    "working_place = os.getcwd()\n",
    "path_DAX = working_place + '/DAX.csv'\n",
    "DAX = pd.read_csv(path_DAX)\n",
    "DAX.shape"
   ]
  },
  {
   "cell_type": "code",
   "execution_count": 3,
   "metadata": {},
   "outputs": [
    {
     "data": {
      "text/plain": [
       "(255, 7)"
      ]
     },
     "execution_count": 3,
     "metadata": {},
     "output_type": "execute_result"
    }
   ],
   "source": [
    "path_CAC = working_place + '/CAC.csv'\n",
    "CAC = pd.read_csv(path_CAC)\n",
    "CAC.shape"
   ]
  },
  {
   "cell_type": "code",
   "execution_count": 6,
   "metadata": {},
   "outputs": [
    {
     "data": {
      "text/plain": [
       "(252, 7)"
      ]
     },
     "execution_count": 6,
     "metadata": {},
     "output_type": "execute_result"
    }
   ],
   "source": [
    "path_NAS = working_place + '/NASDAQ.csv'\n",
    "NASDAQ = pd.read_csv(path_NAS)\n",
    "NASDAQ.shape"
   ]
  },
  {
   "cell_type": "code",
   "execution_count": 7,
   "metadata": {},
   "outputs": [
    {
     "data": {
      "text/plain": [
       "(252, 7)"
      ]
     },
     "execution_count": 7,
     "metadata": {},
     "output_type": "execute_result"
    }
   ],
   "source": [
    "path_SPY = working_place + '/SPY.csv'\n",
    "SPY = pd.read_csv(path_SPY)\n",
    "SPY.shape"
   ]
  },
  {
   "cell_type": "code",
   "execution_count": 8,
   "metadata": {},
   "outputs": [
    {
     "data": {
      "text/html": [
       "<div>\n",
       "<style scoped>\n",
       "    .dataframe tbody tr th:only-of-type {\n",
       "        vertical-align: middle;\n",
       "    }\n",
       "\n",
       "    .dataframe tbody tr th {\n",
       "        vertical-align: top;\n",
       "    }\n",
       "\n",
       "    .dataframe thead th {\n",
       "        text-align: right;\n",
       "    }\n",
       "</style>\n",
       "<table border=\"1\" class=\"dataframe\">\n",
       "  <thead>\n",
       "    <tr style=\"text-align: right;\">\n",
       "      <th></th>\n",
       "      <th>Date</th>\n",
       "      <th>SPY</th>\n",
       "      <th>SPYLag</th>\n",
       "      <th>NASDAQ</th>\n",
       "      <th>CAC</th>\n",
       "      <th>DAX</th>\n",
       "      <th>Price</th>\n",
       "    </tr>\n",
       "  </thead>\n",
       "  <tbody>\n",
       "    <tr>\n",
       "      <th>0</th>\n",
       "      <td>2020-04-08</td>\n",
       "      <td>9.619996</td>\n",
       "      <td>NaN</td>\n",
       "      <td>NaN</td>\n",
       "      <td>NaN</td>\n",
       "      <td>NaN</td>\n",
       "      <td>267.959991</td>\n",
       "    </tr>\n",
       "    <tr>\n",
       "      <th>1</th>\n",
       "      <td>2020-04-09</td>\n",
       "      <td>-0.439972</td>\n",
       "      <td>9.619996</td>\n",
       "      <td>193.289551</td>\n",
       "      <td>114.939942</td>\n",
       "      <td>189.090821</td>\n",
       "      <td>277.579987</td>\n",
       "    </tr>\n",
       "    <tr>\n",
       "      <th>2</th>\n",
       "      <td>2020-04-13</td>\n",
       "      <td>3.839996</td>\n",
       "      <td>-0.439972</td>\n",
       "      <td>-41.319825</td>\n",
       "      <td>41.250000</td>\n",
       "      <td>243.319336</td>\n",
       "      <td>277.140015</td>\n",
       "    </tr>\n",
       "    <tr>\n",
       "      <th>3</th>\n",
       "      <td>2020-04-14</td>\n",
       "      <td>-3.410004</td>\n",
       "      <td>3.839996</td>\n",
       "      <td>225.520020</td>\n",
       "      <td>-41.679688</td>\n",
       "      <td>-55.779297</td>\n",
       "      <td>280.980011</td>\n",
       "    </tr>\n",
       "    <tr>\n",
       "      <th>4</th>\n",
       "      <td>2020-04-15</td>\n",
       "      <td>1.579987</td>\n",
       "      <td>-3.410004</td>\n",
       "      <td>2.750000</td>\n",
       "      <td>-109.490234</td>\n",
       "      <td>-257.930664</td>\n",
       "      <td>277.570007</td>\n",
       "    </tr>\n",
       "    <tr>\n",
       "      <th>...</th>\n",
       "      <td>...</td>\n",
       "      <td>...</td>\n",
       "      <td>...</td>\n",
       "      <td>...</td>\n",
       "      <td>...</td>\n",
       "      <td>...</td>\n",
       "      <td>...</td>\n",
       "    </tr>\n",
       "    <tr>\n",
       "      <th>247</th>\n",
       "      <td>2021-04-01</td>\n",
       "      <td>5.059997</td>\n",
       "      <td>3.059998</td>\n",
       "      <td>291.750000</td>\n",
       "      <td>68.189941</td>\n",
       "      <td>84.459961</td>\n",
       "      <td>398.399994</td>\n",
       "    </tr>\n",
       "    <tr>\n",
       "      <th>248</th>\n",
       "      <td>2021-04-05</td>\n",
       "      <td>2.300019</td>\n",
       "      <td>5.059997</td>\n",
       "      <td>180.580078</td>\n",
       "      <td>15.770020</td>\n",
       "      <td>71.649414</td>\n",
       "      <td>403.459991</td>\n",
       "    </tr>\n",
       "    <tr>\n",
       "      <th>249</th>\n",
       "      <td>2021-04-06</td>\n",
       "      <td>0.179992</td>\n",
       "      <td>2.300019</td>\n",
       "      <td>86.769531</td>\n",
       "      <td>49.540039</td>\n",
       "      <td>236.200196</td>\n",
       "      <td>405.760010</td>\n",
       "    </tr>\n",
       "    <tr>\n",
       "      <th>250</th>\n",
       "      <td>2021-04-07</td>\n",
       "      <td>1.989991</td>\n",
       "      <td>0.179992</td>\n",
       "      <td>-6.370117</td>\n",
       "      <td>40.479981</td>\n",
       "      <td>-68.739258</td>\n",
       "      <td>405.940002</td>\n",
       "    </tr>\n",
       "    <tr>\n",
       "      <th>251</th>\n",
       "      <td>2021-04-08</td>\n",
       "      <td>NaN</td>\n",
       "      <td>1.989991</td>\n",
       "      <td>121.600586</td>\n",
       "      <td>-5.350098</td>\n",
       "      <td>15.209961</td>\n",
       "      <td>407.929993</td>\n",
       "    </tr>\n",
       "  </tbody>\n",
       "</table>\n",
       "<p>252 rows × 7 columns</p>\n",
       "</div>"
      ],
      "text/plain": [
       "           Date       SPY    SPYLag      NASDAQ         CAC         DAX  \\\n",
       "0    2020-04-08  9.619996       NaN         NaN         NaN         NaN   \n",
       "1    2020-04-09 -0.439972  9.619996  193.289551  114.939942  189.090821   \n",
       "2    2020-04-13  3.839996 -0.439972  -41.319825   41.250000  243.319336   \n",
       "3    2020-04-14 -3.410004  3.839996  225.520020  -41.679688  -55.779297   \n",
       "4    2020-04-15  1.579987 -3.410004    2.750000 -109.490234 -257.930664   \n",
       "..          ...       ...       ...         ...         ...         ...   \n",
       "247  2021-04-01  5.059997  3.059998  291.750000   68.189941   84.459961   \n",
       "248  2021-04-05  2.300019  5.059997  180.580078   15.770020   71.649414   \n",
       "249  2021-04-06  0.179992  2.300019   86.769531   49.540039  236.200196   \n",
       "250  2021-04-07  1.989991  0.179992   -6.370117   40.479981  -68.739258   \n",
       "251  2021-04-08       NaN  1.989991  121.600586   -5.350098   15.209961   \n",
       "\n",
       "          Price  \n",
       "0    267.959991  \n",
       "1    277.579987  \n",
       "2    277.140015  \n",
       "3    280.980011  \n",
       "4    277.570007  \n",
       "..          ...  \n",
       "247  398.399994  \n",
       "248  403.459991  \n",
       "249  405.760010  \n",
       "250  405.940002  \n",
       "251  407.929993  \n",
       "\n",
       "[252 rows x 7 columns]"
      ]
     },
     "execution_count": 8,
     "metadata": {},
     "output_type": "execute_result"
    }
   ],
   "source": [
    "new_sheet = pd.DataFrame()\n",
    "new_sheet['Date'] = SPY['Date']\n",
    "new_sheet['SPY'] = SPY['Open'].shift(-1) - SPY['Open']\n",
    "new_sheet['SPYLag'] = SPY['Open'] - SPY['Open'].shift(1)\n",
    "new_sheet['NASDAQ'] = NASDAQ['Open'] - NASDAQ['Open'].shift(1)\n",
    "new_sheet['CAC'] = CAC['Open'] - CAC['Open'].shift(1)\n",
    "new_sheet['DAX'] = DAX['Open'] - DAX['Open'].shift(1)\n",
    "new_sheet['Price'] = SPY['Open']\n",
    "new_sheet"
   ]
  },
  {
   "cell_type": "code",
   "execution_count": 9,
   "metadata": {},
   "outputs": [
    {
     "data": {
      "text/plain": [
       "Date      0\n",
       "SPY       0\n",
       "SPYLag    0\n",
       "NASDAQ    0\n",
       "CAC       0\n",
       "DAX       0\n",
       "Price     0\n",
       "dtype: int64"
      ]
     },
     "execution_count": 9,
     "metadata": {},
     "output_type": "execute_result"
    }
   ],
   "source": [
    "new_sheet = new_sheet.fillna(method = 'ffill')\n",
    "new_sheet = new_sheet.dropna() #Drop rows with NaN (First Row with NaN) \n",
    "new_sheet.isnull().sum() # check if there is any NaN values"
   ]
  },
  {
   "cell_type": "code",
   "execution_count": 10,
   "metadata": {},
   "outputs": [],
   "source": [
    "new_sheet.to_csv('/Users/boxtim/Desktop/Python_Finance/NewSheet1.csv')"
   ]
  },
  {
   "cell_type": "code",
   "execution_count": 11,
   "metadata": {},
   "outputs": [
    {
     "data": {
      "text/plain": [
       "(251, 7)"
      ]
     },
     "execution_count": 11,
     "metadata": {},
     "output_type": "execute_result"
    }
   ],
   "source": [
    "new_sheet.shape"
   ]
  },
  {
   "cell_type": "code",
   "execution_count": 12,
   "metadata": {},
   "outputs": [
    {
     "data": {
      "text/html": [
       "<div>\n",
       "<style scoped>\n",
       "    .dataframe tbody tr th:only-of-type {\n",
       "        vertical-align: middle;\n",
       "    }\n",
       "\n",
       "    .dataframe tbody tr th {\n",
       "        vertical-align: top;\n",
       "    }\n",
       "\n",
       "    .dataframe thead th {\n",
       "        text-align: right;\n",
       "    }\n",
       "</style>\n",
       "<table border=\"1\" class=\"dataframe\">\n",
       "  <thead>\n",
       "    <tr style=\"text-align: right;\">\n",
       "      <th></th>\n",
       "      <th>Date</th>\n",
       "      <th>SPY</th>\n",
       "      <th>SPYLag</th>\n",
       "      <th>NASDAQ</th>\n",
       "      <th>CAC</th>\n",
       "      <th>DAX</th>\n",
       "      <th>Price</th>\n",
       "    </tr>\n",
       "  </thead>\n",
       "  <tbody>\n",
       "    <tr>\n",
       "      <th>1</th>\n",
       "      <td>2020-04-09</td>\n",
       "      <td>-0.439972</td>\n",
       "      <td>9.619996</td>\n",
       "      <td>193.289551</td>\n",
       "      <td>114.939942</td>\n",
       "      <td>189.090821</td>\n",
       "      <td>277.579987</td>\n",
       "    </tr>\n",
       "    <tr>\n",
       "      <th>2</th>\n",
       "      <td>2020-04-13</td>\n",
       "      <td>3.839996</td>\n",
       "      <td>-0.439972</td>\n",
       "      <td>-41.319825</td>\n",
       "      <td>41.250000</td>\n",
       "      <td>243.319336</td>\n",
       "      <td>277.140015</td>\n",
       "    </tr>\n",
       "    <tr>\n",
       "      <th>3</th>\n",
       "      <td>2020-04-14</td>\n",
       "      <td>-3.410004</td>\n",
       "      <td>3.839996</td>\n",
       "      <td>225.520020</td>\n",
       "      <td>-41.679688</td>\n",
       "      <td>-55.779297</td>\n",
       "      <td>280.980011</td>\n",
       "    </tr>\n",
       "    <tr>\n",
       "      <th>4</th>\n",
       "      <td>2020-04-15</td>\n",
       "      <td>1.579987</td>\n",
       "      <td>-3.410004</td>\n",
       "      <td>2.750000</td>\n",
       "      <td>-109.490234</td>\n",
       "      <td>-257.930664</td>\n",
       "      <td>277.570007</td>\n",
       "    </tr>\n",
       "    <tr>\n",
       "      <th>5</th>\n",
       "      <td>2020-04-16</td>\n",
       "      <td>6.230011</td>\n",
       "      <td>1.579987</td>\n",
       "      <td>123.150391</td>\n",
       "      <td>68.540039</td>\n",
       "      <td>187.089843</td>\n",
       "      <td>279.149994</td>\n",
       "    </tr>\n",
       "    <tr>\n",
       "      <th>...</th>\n",
       "      <td>...</td>\n",
       "      <td>...</td>\n",
       "      <td>...</td>\n",
       "      <td>...</td>\n",
       "      <td>...</td>\n",
       "      <td>...</td>\n",
       "      <td>...</td>\n",
       "    </tr>\n",
       "    <tr>\n",
       "      <th>121</th>\n",
       "      <td>2020-09-30</td>\n",
       "      <td>4.600006</td>\n",
       "      <td>-0.880005</td>\n",
       "      <td>-16.099609</td>\n",
       "      <td>26.729980</td>\n",
       "      <td>-63.020508</td>\n",
       "      <td>333.089996</td>\n",
       "    </tr>\n",
       "    <tr>\n",
       "      <th>122</th>\n",
       "      <td>2020-10-01</td>\n",
       "      <td>-5.989990</td>\n",
       "      <td>4.600006</td>\n",
       "      <td>199.089843</td>\n",
       "      <td>-39.680176</td>\n",
       "      <td>57.310547</td>\n",
       "      <td>337.690002</td>\n",
       "    </tr>\n",
       "    <tr>\n",
       "      <th>123</th>\n",
       "      <td>2020-10-02</td>\n",
       "      <td>4.359986</td>\n",
       "      <td>-5.989990</td>\n",
       "      <td>-209.459961</td>\n",
       "      <td>57.010254</td>\n",
       "      <td>-253.299805</td>\n",
       "      <td>331.700012</td>\n",
       "    </tr>\n",
       "    <tr>\n",
       "      <th>124</th>\n",
       "      <td>2020-10-05</td>\n",
       "      <td>3.850006</td>\n",
       "      <td>4.359986</td>\n",
       "      <td>86.580079</td>\n",
       "      <td>-80.770019</td>\n",
       "      <td>265.269532</td>\n",
       "      <td>336.059998</td>\n",
       "    </tr>\n",
       "    <tr>\n",
       "      <th>125</th>\n",
       "      <td>2020-10-06</td>\n",
       "      <td>-1.790009</td>\n",
       "      <td>3.850006</td>\n",
       "      <td>145.419921</td>\n",
       "      <td>94.199707</td>\n",
       "      <td>34.919922</td>\n",
       "      <td>339.910004</td>\n",
       "    </tr>\n",
       "  </tbody>\n",
       "</table>\n",
       "<p>125 rows × 7 columns</p>\n",
       "</div>"
      ],
      "text/plain": [
       "           Date       SPY    SPYLag      NASDAQ         CAC         DAX  \\\n",
       "1    2020-04-09 -0.439972  9.619996  193.289551  114.939942  189.090821   \n",
       "2    2020-04-13  3.839996 -0.439972  -41.319825   41.250000  243.319336   \n",
       "3    2020-04-14 -3.410004  3.839996  225.520020  -41.679688  -55.779297   \n",
       "4    2020-04-15  1.579987 -3.410004    2.750000 -109.490234 -257.930664   \n",
       "5    2020-04-16  6.230011  1.579987  123.150391   68.540039  187.089843   \n",
       "..          ...       ...       ...         ...         ...         ...   \n",
       "121  2020-09-30  4.600006 -0.880005  -16.099609   26.729980  -63.020508   \n",
       "122  2020-10-01 -5.989990  4.600006  199.089843  -39.680176   57.310547   \n",
       "123  2020-10-02  4.359986 -5.989990 -209.459961   57.010254 -253.299805   \n",
       "124  2020-10-05  3.850006  4.359986   86.580079  -80.770019  265.269532   \n",
       "125  2020-10-06 -1.790009  3.850006  145.419921   94.199707   34.919922   \n",
       "\n",
       "          Price  \n",
       "1    277.579987  \n",
       "2    277.140015  \n",
       "3    280.980011  \n",
       "4    277.570007  \n",
       "5    279.149994  \n",
       "..          ...  \n",
       "121  333.089996  \n",
       "122  337.690002  \n",
       "123  331.700012  \n",
       "124  336.059998  \n",
       "125  339.910004  \n",
       "\n",
       "[125 rows x 7 columns]"
      ]
     },
     "execution_count": 12,
     "metadata": {},
     "output_type": "execute_result"
    }
   ],
   "source": [
    "Train = new_sheet.iloc[0:125, :]\n",
    "Train"
   ]
  },
  {
   "cell_type": "code",
   "execution_count": 13,
   "metadata": {},
   "outputs": [
    {
     "data": {
      "text/html": [
       "<div>\n",
       "<style scoped>\n",
       "    .dataframe tbody tr th:only-of-type {\n",
       "        vertical-align: middle;\n",
       "    }\n",
       "\n",
       "    .dataframe tbody tr th {\n",
       "        vertical-align: top;\n",
       "    }\n",
       "\n",
       "    .dataframe thead th {\n",
       "        text-align: right;\n",
       "    }\n",
       "</style>\n",
       "<table border=\"1\" class=\"dataframe\">\n",
       "  <thead>\n",
       "    <tr style=\"text-align: right;\">\n",
       "      <th></th>\n",
       "      <th>Date</th>\n",
       "      <th>SPY</th>\n",
       "      <th>SPYLag</th>\n",
       "      <th>NASDAQ</th>\n",
       "      <th>CAC</th>\n",
       "      <th>DAX</th>\n",
       "      <th>Price</th>\n",
       "    </tr>\n",
       "  </thead>\n",
       "  <tbody>\n",
       "    <tr>\n",
       "      <th>126</th>\n",
       "      <td>2020-10-07</td>\n",
       "      <td>4.730011</td>\n",
       "      <td>-1.790009</td>\n",
       "      <td>-42.850585</td>\n",
       "      <td>18.169922</td>\n",
       "      <td>42.320312</td>\n",
       "      <td>338.119995</td>\n",
       "    </tr>\n",
       "    <tr>\n",
       "      <th>127</th>\n",
       "      <td>2020-10-08</td>\n",
       "      <td>2.709992</td>\n",
       "      <td>4.730011</td>\n",
       "      <td>171.669921</td>\n",
       "      <td>6.690429</td>\n",
       "      <td>109.940430</td>\n",
       "      <td>342.850006</td>\n",
       "    </tr>\n",
       "    <tr>\n",
       "      <th>128</th>\n",
       "      <td>2020-10-09</td>\n",
       "      <td>4.029998</td>\n",
       "      <td>2.709992</td>\n",
       "      <td>44.250000</td>\n",
       "      <td>22.000000</td>\n",
       "      <td>58.809570</td>\n",
       "      <td>345.559998</td>\n",
       "    </tr>\n",
       "    <tr>\n",
       "      <th>129</th>\n",
       "      <td>2020-10-12</td>\n",
       "      <td>2.690003</td>\n",
       "      <td>4.029998</td>\n",
       "      <td>244.730469</td>\n",
       "      <td>14.919922</td>\n",
       "      <td>16.019531</td>\n",
       "      <td>349.589996</td>\n",
       "    </tr>\n",
       "    <tr>\n",
       "      <th>130</th>\n",
       "      <td>2020-10-13</td>\n",
       "      <td>-1.529999</td>\n",
       "      <td>2.690003</td>\n",
       "      <td>169.429688</td>\n",
       "      <td>27.060059</td>\n",
       "      <td>46.840821</td>\n",
       "      <td>352.279999</td>\n",
       "    </tr>\n",
       "    <tr>\n",
       "      <th>...</th>\n",
       "      <td>...</td>\n",
       "      <td>...</td>\n",
       "      <td>...</td>\n",
       "      <td>...</td>\n",
       "      <td>...</td>\n",
       "      <td>...</td>\n",
       "      <td>...</td>\n",
       "    </tr>\n",
       "    <tr>\n",
       "      <th>247</th>\n",
       "      <td>2021-04-01</td>\n",
       "      <td>5.059997</td>\n",
       "      <td>3.059998</td>\n",
       "      <td>291.750000</td>\n",
       "      <td>68.189941</td>\n",
       "      <td>84.459961</td>\n",
       "      <td>398.399994</td>\n",
       "    </tr>\n",
       "    <tr>\n",
       "      <th>248</th>\n",
       "      <td>2021-04-05</td>\n",
       "      <td>2.300019</td>\n",
       "      <td>5.059997</td>\n",
       "      <td>180.580078</td>\n",
       "      <td>15.770020</td>\n",
       "      <td>71.649414</td>\n",
       "      <td>403.459991</td>\n",
       "    </tr>\n",
       "    <tr>\n",
       "      <th>249</th>\n",
       "      <td>2021-04-06</td>\n",
       "      <td>0.179992</td>\n",
       "      <td>2.300019</td>\n",
       "      <td>86.769531</td>\n",
       "      <td>49.540039</td>\n",
       "      <td>236.200196</td>\n",
       "      <td>405.760010</td>\n",
       "    </tr>\n",
       "    <tr>\n",
       "      <th>250</th>\n",
       "      <td>2021-04-07</td>\n",
       "      <td>1.989991</td>\n",
       "      <td>0.179992</td>\n",
       "      <td>-6.370117</td>\n",
       "      <td>40.479981</td>\n",
       "      <td>-68.739258</td>\n",
       "      <td>405.940002</td>\n",
       "    </tr>\n",
       "    <tr>\n",
       "      <th>251</th>\n",
       "      <td>2021-04-08</td>\n",
       "      <td>1.989991</td>\n",
       "      <td>1.989991</td>\n",
       "      <td>121.600586</td>\n",
       "      <td>-5.350098</td>\n",
       "      <td>15.209961</td>\n",
       "      <td>407.929993</td>\n",
       "    </tr>\n",
       "  </tbody>\n",
       "</table>\n",
       "<p>126 rows × 7 columns</p>\n",
       "</div>"
      ],
      "text/plain": [
       "           Date       SPY    SPYLag      NASDAQ        CAC         DAX  \\\n",
       "126  2020-10-07  4.730011 -1.790009  -42.850585  18.169922   42.320312   \n",
       "127  2020-10-08  2.709992  4.730011  171.669921   6.690429  109.940430   \n",
       "128  2020-10-09  4.029998  2.709992   44.250000  22.000000   58.809570   \n",
       "129  2020-10-12  2.690003  4.029998  244.730469  14.919922   16.019531   \n",
       "130  2020-10-13 -1.529999  2.690003  169.429688  27.060059   46.840821   \n",
       "..          ...       ...       ...         ...        ...         ...   \n",
       "247  2021-04-01  5.059997  3.059998  291.750000  68.189941   84.459961   \n",
       "248  2021-04-05  2.300019  5.059997  180.580078  15.770020   71.649414   \n",
       "249  2021-04-06  0.179992  2.300019   86.769531  49.540039  236.200196   \n",
       "250  2021-04-07  1.989991  0.179992   -6.370117  40.479981  -68.739258   \n",
       "251  2021-04-08  1.989991  1.989991  121.600586  -5.350098   15.209961   \n",
       "\n",
       "          Price  \n",
       "126  338.119995  \n",
       "127  342.850006  \n",
       "128  345.559998  \n",
       "129  349.589996  \n",
       "130  352.279999  \n",
       "..          ...  \n",
       "247  398.399994  \n",
       "248  403.459991  \n",
       "249  405.760010  \n",
       "250  405.940002  \n",
       "251  407.929993  \n",
       "\n",
       "[126 rows x 7 columns]"
      ]
     },
     "execution_count": 13,
     "metadata": {},
     "output_type": "execute_result"
    }
   ],
   "source": [
    "Test = new_sheet.iloc[125: , :]\n",
    "Test"
   ]
  },
  {
   "cell_type": "code",
   "execution_count": 14,
   "metadata": {},
   "outputs": [
    {
     "data": {
      "image/png": "[encoded data removed]",
      "text/plain": [
       "<Figure size 720x720 with 36 Axes>"
      ]
     },
     "metadata": {
      "needs_background": "light"
     },
     "output_type": "display_data"
    }
   ],
   "source": [
    "sm = scatter_matrix(Train, figsize = (10,10))"
   ]
  },
  {
   "cell_type": "code",
   "execution_count": 15,
   "metadata": {},
   "outputs": [
    {
     "data": {
      "text/html": [
       "<table class=\"simpletable\">\n",
       "<caption>OLS Regression Results</caption>\n",
       "<tr>\n",
       "  <th>Dep. Variable:</th>           <td>SPY</td>       <th>  R-squared:         </th> <td>   0.213</td>\n",
       "</tr>\n",
       "<tr>\n",
       "  <th>Model:</th>                   <td>OLS</td>       <th>  Adj. R-squared:    </th> <td>   0.187</td>\n",
       "</tr>\n",
       "<tr>\n",
       "  <th>Method:</th>             <td>Least Squares</td>  <th>  F-statistic:       </th> <td>   8.114</td>\n",
       "</tr>\n",
       "<tr>\n",
       "  <th>Date:</th>             <td>Sat, 10 Apr 2021</td> <th>  Prob (F-statistic):</th> <td>7.96e-06</td>\n",
       "</tr>\n",
       "<tr>\n",
       "  <th>Time:</th>                 <td>08:49:13</td>     <th>  Log-Likelihood:    </th> <td> -350.44</td>\n",
       "</tr>\n",
       "<tr>\n",
       "  <th>No. Observations:</th>      <td>   125</td>      <th>  AIC:               </th> <td>   710.9</td>\n",
       "</tr>\n",
       "<tr>\n",
       "  <th>Df Residuals:</th>          <td>   120</td>      <th>  BIC:               </th> <td>   725.0</td>\n",
       "</tr>\n",
       "<tr>\n",
       "  <th>Df Model:</th>              <td>     4</td>      <th>                     </th>     <td> </td>   \n",
       "</tr>\n",
       "<tr>\n",
       "  <th>Covariance Type:</th>      <td>nonrobust</td>    <th>                     </th>     <td> </td>   \n",
       "</tr>\n",
       "</table>\n",
       "<table class=\"simpletable\">\n",
       "<tr>\n",
       "      <td></td>         <th>coef</th>     <th>std err</th>      <th>t</th>      <th>P>|t|</th>  <th>[0.025</th>    <th>0.975]</th>  \n",
       "</tr>\n",
       "<tr>\n",
       "  <th>Intercept</th> <td>    0.3711</td> <td>    0.371</td> <td>    1.000</td> <td> 0.319</td> <td>   -0.364</td> <td>    1.106</td>\n",
       "</tr>\n",
       "<tr>\n",
       "  <th>SPYLag</th>    <td>   -0.4882</td> <td>    0.189</td> <td>   -2.578</td> <td> 0.011</td> <td>   -0.863</td> <td>   -0.113</td>\n",
       "</tr>\n",
       "<tr>\n",
       "  <th>NASDAQ</th>    <td>    0.0089</td> <td>    0.005</td> <td>    1.809</td> <td> 0.073</td> <td>   -0.001</td> <td>    0.019</td>\n",
       "</tr>\n",
       "<tr>\n",
       "  <th>CAC</th>       <td>    0.0231</td> <td>    0.005</td> <td>    4.335</td> <td> 0.000</td> <td>    0.013</td> <td>    0.034</td>\n",
       "</tr>\n",
       "<tr>\n",
       "  <th>DAX</th>       <td>    0.0034</td> <td>    0.002</td> <td>    1.759</td> <td> 0.081</td> <td>   -0.000</td> <td>    0.007</td>\n",
       "</tr>\n",
       "</table>\n",
       "<table class=\"simpletable\">\n",
       "<tr>\n",
       "  <th>Omnibus:</th>       <td> 5.711</td> <th>  Durbin-Watson:     </th> <td>   2.294</td>\n",
       "</tr>\n",
       "<tr>\n",
       "  <th>Prob(Omnibus):</th> <td> 0.058</td> <th>  Jarque-Bera (JB):  </th> <td>   5.373</td>\n",
       "</tr>\n",
       "<tr>\n",
       "  <th>Skew:</th>          <td>-0.393</td> <th>  Prob(JB):          </th> <td>  0.0681</td>\n",
       "</tr>\n",
       "<tr>\n",
       "  <th>Kurtosis:</th>      <td> 3.642</td> <th>  Cond. No.          </th> <td>    204.</td>\n",
       "</tr>\n",
       "</table><br/><br/>Warnings:<br/>[1] Standard Errors assume that the covariance matrix of the errors is correctly specified."
      ],
      "text/plain": [
       "<class 'statsmodels.iolib.summary.Summary'>\n",
       "\"\"\"\n",
       "                            OLS Regression Results                            \n",
       "==============================================================================\n",
       "Dep. Variable:                    SPY   R-squared:                       0.213\n",
       "Model:                            OLS   Adj. R-squared:                  0.187\n",
       "Method:                 Least Squares   F-statistic:                     8.114\n",
       "Date:                Sat, 10 Apr 2021   Prob (F-statistic):           7.96e-06\n",
       "Time:                        08:49:13   Log-Likelihood:                -350.44\n",
       "No. Observations:                 125   AIC:                             710.9\n",
       "Df Residuals:                     120   BIC:                             725.0\n",
       "Df Model:                           4                                         \n",
       "Covariance Type:            nonrobust                                         \n",
       "==============================================================================\n",
       "                 coef    std err          t      P>|t|      [0.025      0.975]\n",
       "------------------------------------------------------------------------------\n",
       "Intercept      0.3711      0.371      1.000      0.319      -0.364       1.106\n",
       "SPYLag        -0.4882      0.189     -2.578      0.011      -0.863      -0.113\n",
       "NASDAQ         0.0089      0.005      1.809      0.073      -0.001       0.019\n",
       "CAC            0.0231      0.005      4.335      0.000       0.013       0.034\n",
       "DAX            0.0034      0.002      1.759      0.081      -0.000       0.007\n",
       "==============================================================================\n",
       "Omnibus:                        5.711   Durbin-Watson:                   2.294\n",
       "Prob(Omnibus):                  0.058   Jarque-Bera (JB):                5.373\n",
       "Skew:                          -0.393   Prob(JB):                       0.0681\n",
       "Kurtosis:                       3.642   Cond. No.                         204.\n",
       "==============================================================================\n",
       "\n",
       "Warnings:\n",
       "[1] Standard Errors assume that the covariance matrix of the errors is correctly specified.\n",
       "\"\"\""
      ]
     },
     "execution_count": 15,
     "metadata": {},
     "output_type": "execute_result"
    }
   ],
   "source": [
    "formula = 'SPY~SPYLag + NASDAQ + CAC +DAX'\n",
    "lm = smf.ols(formula = formula, data= Train).fit()\n",
    "lm.summary()"
   ]
  },
  {
   "cell_type": "code",
   "execution_count": 16,
   "metadata": {},
   "outputs": [
    {
     "name": "stderr",
     "output_type": "stream",
     "text": [
      "/opt/anaconda3/lib/python3.7/site-packages/ipykernel_launcher.py:1: SettingWithCopyWarning: \n",
      "A value is trying to be set on a copy of a slice from a DataFrame.\n",
      "Try using .loc[row_indexer,col_indexer] = value instead\n",
      "\n",
      "See the caveats in the documentation: https://pandas.pydata.org/pandas-docs/stable/user_guide/indexing.html#returning-a-view-versus-a-copy\n",
      "  \"\"\"Entry point for launching an IPython kernel.\n"
     ]
    }
   ],
   "source": [
    "Train['PredictedY'] = lm.predict(Train)"
   ]
  },
  {
   "cell_type": "code",
   "execution_count": 18,
   "metadata": {},
   "outputs": [
    {
     "name": "stderr",
     "output_type": "stream",
     "text": [
      "/opt/anaconda3/lib/python3.7/site-packages/ipykernel_launcher.py:1: SettingWithCopyWarning: \n",
      "A value is trying to be set on a copy of a slice from a DataFrame.\n",
      "Try using .loc[row_indexer,col_indexer] = value instead\n",
      "\n",
      "See the caveats in the documentation: https://pandas.pydata.org/pandas-docs/stable/user_guide/indexing.html#returning-a-view-versus-a-copy\n",
      "  \"\"\"Entry point for launching an IPython kernel.\n"
     ]
    }
   ],
   "source": [
    "Test['PredictedY'] = lm.predict(Test)"
   ]
  },
  {
   "cell_type": "code",
   "execution_count": 19,
   "metadata": {},
   "outputs": [],
   "source": [
    "def adjustedMetric(data, model_k, yname):\n",
    "    data['Y_predicted'] = model_k.predict(data)\n",
    "    SST = ((data[yname] - data[yname].mean())**2).sum()\n",
    "    SSE = ((data['Y_predicted'] - data[yname].mean())**2).sum()\n",
    "    SSR = SST - SSE\n",
    "    r2 = SSE / SST\n",
    "    print('Enter Value for n')\n",
    "    n = int(input())\n",
    "    print('Enter Value for k')\n",
    "    k = int(input())\n",
    "    R2_adj = 1 - ((1 - r2) * (n - 1) / (n - k - 1))\n",
    "    RMSE = (SSR / (n - k -1)) ** 0.5\n",
    "    return R2_adj, RMSE"
   ]
  },
  {
   "cell_type": "code",
   "execution_count": 20,
   "metadata": {},
   "outputs": [
    {
     "name": "stderr",
     "output_type": "stream",
     "text": [
      "/opt/anaconda3/lib/python3.7/site-packages/ipykernel_launcher.py:2: SettingWithCopyWarning: \n",
      "A value is trying to be set on a copy of a slice from a DataFrame.\n",
      "Try using .loc[row_indexer,col_indexer] = value instead\n",
      "\n",
      "See the caveats in the documentation: https://pandas.pydata.org/pandas-docs/stable/user_guide/indexing.html#returning-a-view-versus-a-copy\n",
      "  \n"
     ]
    },
    {
     "name": "stdout",
     "output_type": "stream",
     "text": [
      "Enter Value for n\n",
      "125\n",
      "Enter Value for k\n",
      "4\n"
     ]
    },
    {
     "data": {
      "text/plain": [
       "(0.1866594212249828, 4.075630305354152)"
      ]
     },
     "execution_count": 20,
     "metadata": {},
     "output_type": "execute_result"
    }
   ],
   "source": [
    "adjustedMetric(Train, lm, 'SPY')"
   ]
  },
  {
   "cell_type": "code",
   "execution_count": 21,
   "metadata": {},
   "outputs": [
    {
     "name": "stderr",
     "output_type": "stream",
     "text": [
      "/opt/anaconda3/lib/python3.7/site-packages/ipykernel_launcher.py:2: SettingWithCopyWarning: \n",
      "A value is trying to be set on a copy of a slice from a DataFrame.\n",
      "Try using .loc[row_indexer,col_indexer] = value instead\n",
      "\n",
      "See the caveats in the documentation: https://pandas.pydata.org/pandas-docs/stable/user_guide/indexing.html#returning-a-view-versus-a-copy\n",
      "  \n"
     ]
    },
    {
     "name": "stdout",
     "output_type": "stream",
     "text": [
      "Enter Value for n\n",
      "126\n",
      "Enter Value for k\n",
      "4\n"
     ]
    },
    {
     "data": {
      "text/plain": [
       "(0.2210708109988574, 3.1725005015892527)"
      ]
     },
     "execution_count": 21,
     "metadata": {},
     "output_type": "execute_result"
    }
   ],
   "source": [
    "adjustedMetric(Test, lm, 'SPY')"
   ]
  },
  {
   "cell_type": "code",
   "execution_count": 22,
   "metadata": {},
   "outputs": [],
   "source": [
    "#If the values for Train and Test are different dramatically, this is called overfitting"
   ]
  },
  {
   "cell_type": "code",
   "execution_count": 23,
   "metadata": {},
   "outputs": [],
   "source": [
    "#Normally in an overfitting model. R2 and RMSE are much better in train "
   ]
  },
  {
   "cell_type": "code",
   "execution_count": 24,
   "metadata": {},
   "outputs": [],
   "source": [
    "# We can not apply this model to real world\n",
    "#RMSE: the larger the number is, the worse it is\n",
    "#### OUR Model is not overfitting"
   ]
  },
  {
   "cell_type": "code",
   "execution_count": null,
   "metadata": {},
   "outputs": [],
   "source": []
  },
  {
   "cell_type": "code",
   "execution_count": null,
   "metadata": {},
   "outputs": [],
   "source": []
  },
  {
   "cell_type": "code",
   "execution_count": null,
   "metadata": {},
   "outputs": [],
   "source": []
  },
  {
   "cell_type": "code",
   "execution_count": 25,
   "metadata": {},
   "outputs": [],
   "source": [
    "####Evaluating Model: Paper trading"
   ]
  },
  {
   "cell_type": "code",
   "execution_count": null,
   "metadata": {},
   "outputs": [],
   "source": []
  },
  {
   "cell_type": "code",
   "execution_count": 27,
   "metadata": {},
   "outputs": [
    {
     "name": "stderr",
     "output_type": "stream",
     "text": [
      "/opt/anaconda3/lib/python3.7/site-packages/ipykernel_launcher.py:1: SettingWithCopyWarning: \n",
      "A value is trying to be set on a copy of a slice from a DataFrame.\n",
      "Try using .loc[row_indexer,col_indexer] = value instead\n",
      "\n",
      "See the caveats in the documentation: https://pandas.pydata.org/pandas-docs/stable/user_guide/indexing.html#returning-a-view-versus-a-copy\n",
      "  \"\"\"Entry point for launching an IPython kernel.\n"
     ]
    }
   ],
   "source": [
    "Train['Order'] = [1 if sig > 0 else -1 for sig in Train['PredictedY']]"
   ]
  },
  {
   "cell_type": "code",
   "execution_count": 29,
   "metadata": {},
   "outputs": [
    {
     "name": "stderr",
     "output_type": "stream",
     "text": [
      "/opt/anaconda3/lib/python3.7/site-packages/ipykernel_launcher.py:1: SettingWithCopyWarning: \n",
      "A value is trying to be set on a copy of a slice from a DataFrame.\n",
      "Try using .loc[row_indexer,col_indexer] = value instead\n",
      "\n",
      "See the caveats in the documentation: https://pandas.pydata.org/pandas-docs/stable/user_guide/indexing.html#returning-a-view-versus-a-copy\n",
      "  \"\"\"Entry point for launching an IPython kernel.\n"
     ]
    }
   ],
   "source": [
    "Train['Profit'] = Train['SPY'] * Train['Order']"
   ]
  },
  {
   "cell_type": "code",
   "execution_count": 31,
   "metadata": {},
   "outputs": [
    {
     "name": "stderr",
     "output_type": "stream",
     "text": [
      "/opt/anaconda3/lib/python3.7/site-packages/ipykernel_launcher.py:1: SettingWithCopyWarning: \n",
      "A value is trying to be set on a copy of a slice from a DataFrame.\n",
      "Try using .loc[row_indexer,col_indexer] = value instead\n",
      "\n",
      "See the caveats in the documentation: https://pandas.pydata.org/pandas-docs/stable/user_guide/indexing.html#returning-a-view-versus-a-copy\n",
      "  \"\"\"Entry point for launching an IPython kernel.\n"
     ]
    }
   ],
   "source": [
    "Train['Wealth'] = Train['Profit'].cumsum()"
   ]
  },
  {
   "cell_type": "code",
   "execution_count": 33,
   "metadata": {},
   "outputs": [
    {
     "name": "stdout",
     "output_type": "stream",
     "text": [
      "The total profit is 164.97982799999994\n"
     ]
    }
   ],
   "source": [
    "print('The total profit is', Train['Profit'].sum())"
   ]
  },
  {
   "cell_type": "code",
   "execution_count": 34,
   "metadata": {},
   "outputs": [],
   "source": [
    "#####Sharp Ratio"
   ]
  },
  {
   "cell_type": "code",
   "execution_count": 39,
   "metadata": {},
   "outputs": [
    {
     "name": "stderr",
     "output_type": "stream",
     "text": [
      "/opt/anaconda3/lib/python3.7/site-packages/ipykernel_launcher.py:1: SettingWithCopyWarning: \n",
      "A value is trying to be set on a copy of a slice from a DataFrame.\n",
      "Try using .loc[row_indexer,col_indexer] = value instead\n",
      "\n",
      "See the caveats in the documentation: https://pandas.pydata.org/pandas-docs/stable/user_guide/indexing.html#returning-a-view-versus-a-copy\n",
      "  \"\"\"Entry point for launching an IPython kernel.\n"
     ]
    },
    {
     "data": {
      "text/plain": [
       "0.24305642427356478"
      ]
     },
     "execution_count": 39,
     "metadata": {},
     "output_type": "execute_result"
    }
   ],
   "source": [
    "Train['Return'] = np.log(Train['Wealth']) - np.log(Train['Wealth'].shift(1))\n",
    "dailyr = Train['Return'].dropna()\n",
    "Train_daily_SR = dailyr.mean() / dailyr.std(ddof = 1)\n",
    "Train_daily_SR"
   ]
  },
  {
   "cell_type": "code",
   "execution_count": 40,
   "metadata": {},
   "outputs": [],
   "source": [
    "#### MAX DRAWNDOWN"
   ]
  },
  {
   "cell_type": "code",
   "execution_count": 41,
   "metadata": {},
   "outputs": [
    {
     "name": "stderr",
     "output_type": "stream",
     "text": [
      "/opt/anaconda3/lib/python3.7/site-packages/ipykernel_launcher.py:1: SettingWithCopyWarning: \n",
      "A value is trying to be set on a copy of a slice from a DataFrame.\n",
      "Try using .loc[row_indexer,col_indexer] = value instead\n",
      "\n",
      "See the caveats in the documentation: https://pandas.pydata.org/pandas-docs/stable/user_guide/indexing.html#returning-a-view-versus-a-copy\n",
      "  \"\"\"Entry point for launching an IPython kernel.\n"
     ]
    }
   ],
   "source": [
    "Train['Peak'] = Train['Wealth'].cummax()"
   ]
  },
  {
   "cell_type": "code",
   "execution_count": 43,
   "metadata": {},
   "outputs": [
    {
     "name": "stderr",
     "output_type": "stream",
     "text": [
      "/opt/anaconda3/lib/python3.7/site-packages/ipykernel_launcher.py:1: SettingWithCopyWarning: \n",
      "A value is trying to be set on a copy of a slice from a DataFrame.\n",
      "Try using .loc[row_indexer,col_indexer] = value instead\n",
      "\n",
      "See the caveats in the documentation: https://pandas.pydata.org/pandas-docs/stable/user_guide/indexing.html#returning-a-view-versus-a-copy\n",
      "  \"\"\"Entry point for launching an IPython kernel.\n"
     ]
    }
   ],
   "source": [
    "Train['Drawdown'] = (Train['Peak'] - Train['Wealth']) / Train['Peak']"
   ]
  },
  {
   "cell_type": "code",
   "execution_count": 45,
   "metadata": {},
   "outputs": [],
   "source": [
    "max_drawdown = Train['Drawdown'].max()"
   ]
  },
  {
   "cell_type": "code",
   "execution_count": null,
   "metadata": {},
   "outputs": [],
   "source": []
  }
 ],
 "metadata": {
  "kernelspec": {
   "display_name": "Python 3",
   "language": "python",
   "name": "python3"
  },
  "language_info": {
   "codemirror_mode": {
    "name": "ipython",
    "version": 3
   },
   "file_extension": ".py",
   "mimetype": "text/x-python",
   "name": "python",
   "nbconvert_exporter": "python",
   "pygments_lexer": "ipython3",
   "version": "3.7.6"
  }
 },
 "nbformat": 4,
 "nbformat_minor": 4
}
